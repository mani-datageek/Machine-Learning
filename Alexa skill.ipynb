{
 "cells": [
  {
   "cell_type": "code",
   "execution_count": null,
   "metadata": {},
   "outputs": [
    {
     "name": "stderr",
     "output_type": "stream",
     "text": [
      " * Running on http://127.0.0.1:5000/ (Press CTRL+C to quit)\n"
     ]
    }
   ],
   "source": [
    "from flask import Flask\n",
    "from flask_ask import Ask, statement, question, session\n",
    "import json\n",
    "import requests\n",
    "import time\n",
    "import unidecode\n",
    "\n",
    "app = Flask(__name__)\n",
    "ask = Ask(app, \"/\")\n",
    "\n",
    "def get_headlines():\n",
    "    titles = 'I like Mani SHarma '\n",
    "    return titles  \n",
    "\n",
    "@app.route('/')\n",
    "def homepage():\n",
    "    return \"hi there, how ya doin?\"\n",
    "\n",
    "@ask.launch\n",
    "def start_skill():\n",
    "    welcome_message = 'Hello there, would you like me to tell you a secret?'\n",
    "    return question(welcome_message)\n",
    "\n",
    "@ask.intent(\"YesIntent\")\n",
    "def share_headlines():\n",
    "    headlines = get_headlines()\n",
    "    headline_msg = format(headlines)\n",
    "    return statement(headline_msg)\n",
    "\n",
    "@ask.intent(\"NoIntent\")\n",
    "def no_intent():\n",
    "    bye_text = 'I am not sure why you asked me to run then, but okay... bye Mani'\n",
    "    return statement(bye_text)\n",
    "    \n",
    "if __name__ == '__main__':\n",
    "    app.run()"
   ]
  },
  {
   "cell_type": "code",
   "execution_count": null,
   "metadata": {},
   "outputs": [],
   "source": []
  }
 ],
 "metadata": {
  "kernelspec": {
   "display_name": "Python 3",
   "language": "python",
   "name": "python3"
  },
  "language_info": {
   "codemirror_mode": {
    "name": "ipython",
    "version": 3
   },
   "file_extension": ".py",
   "mimetype": "text/x-python",
   "name": "python",
   "nbconvert_exporter": "python",
   "pygments_lexer": "ipython3",
   "version": "3.7.6"
  }
 },
 "nbformat": 4,
 "nbformat_minor": 4
}
